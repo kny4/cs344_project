{
 "cells": [
  {
   "cell_type": "markdown",
   "id": "ce5c0e29",
   "metadata": {},
   "source": [
    "# Using torch.nn\n",
    "by Braden Weber (blw22) and Kelsey Yen (kny4)  \n",
    "\n"
   ]
  },
  {
   "cell_type": "markdown",
   "id": "01a9ec9d",
   "metadata": {},
   "source": [
    "PyTorch is an open source library that makes it easy to construct a deep neural network. Its torch.nn module is especially useful for building AI models. It contains different classes for creating various layers used to construct a neural network and is optimal for calculating and stepping-along gradients. In comparison to non-torch.nn code, torch.nn classes make a model more concise and flexible, since there are functions for doing all kinds of layers.  \n",
    "\n",
    "nn.Sequential is a class used to create simplified code for many types of models. The sequential container allows for modules (a component that contains code intended to be called repeatedly) to be passed through the layers in a cascading way.\n",
    "\n",
    "nn.Embedding is a table that stores embeddings and sets them up to retain a gradient."
   ]
  },
  {
   "cell_type": "markdown",
   "id": "74efa0c2",
   "metadata": {},
   "source": [
    "### Bonus Nontechnical Report"
   ]
  },
  {
   "cell_type": "markdown",
   "id": "6e9018c2",
   "metadata": {},
   "source": [
    "The following is a nontechnical summary of our song recommender project (which was not actually required, but we spent a while writing by accident)."
   ]
  },
  {
   "cell_type": "markdown",
   "id": "45c7a3d3",
   "metadata": {},
   "source": [
    "The purpose of this project is to create a song recommending system based on an existing playlist of songs. The inspiration behind this project is the [Spotify Million Playlist Dataset Challenge](https://research.atspotify.com/the-million-playlist-dataset-remastered/). The data comes from sampling random existing Spotify playlists made by real users for Spotify's AI research (much of which focuses on recommendation systems).  \n",
    "   \n",
    "To use the dataset, we first gave a unique numerical id to each song and stored all the songs into a list. Then, to prepare the data for our model, each playlist could only have 30 songs. This meant we had to cut down playlists that were more than 30 songs and delete the playlists that were less than 30 songs from our viable dataset.  \n",
    "\n",
    "\n",
    "To build the recommender, we needed to train our model, which is trained to recommend the top 15 possible songs to any given playlist from the dataset and compared the \"recommendation score\" of each song to a \"target\" song, which is a song that was originally in the set playlist. \n",
    "\n",
    "Training requires training sets. To do this, the model created the 10 training sets for each playlist by pulling out the last ten songs in each playlist, respectively assigning them as the recommended \"target\" song for each of the training sets (i.e. Training Set 1 uses the song at index 21, Training Set 2 uses the song at index 22).\n",
    "\n",
    "Now, in order to train the model numerically, each song in the dataset is given an embedding, a vector that measures how similar the songs in the playlist are to each other based on a variety of song attributes (i.e. genre, danceability). The song embeddings make it possible to numerically compare songs to each other as well as train the model to recognize similar attributes between the songs in the dataset and the playlist for which it is recommending.\n",
    "\n",
    "To test the training, we gather the top 15 recommended songs by our model and the model's calculated confidence that the song should be recommended to the playlist. This confidence is given in a number between 0 and 1, with 1 being the most confident. Part of this validation process included us verifying that the model's confidence was not misplaced.\n",
    "\n",
    "\n",
    "In the end, our recommender was not successful in being able to recommend a song based on the genre of a playlist. We surmised that the model we built recommends the top 15 songs for every possible playlist in the dataset, increasing its confidence in those 15 songs the more it is trained."
   ]
  }
 ],
 "metadata": {
  "kernelspec": {
   "display_name": "Python 3 (ipykernel)",
   "language": "python",
   "name": "python3"
  },
  "language_info": {
   "codemirror_mode": {
    "name": "ipython",
    "version": 3
   },
   "file_extension": ".py",
   "mimetype": "text/x-python",
   "name": "python",
   "nbconvert_exporter": "python",
   "pygments_lexer": "ipython3",
   "version": "3.9.7"
  }
 },
 "nbformat": 4,
 "nbformat_minor": 5
}
